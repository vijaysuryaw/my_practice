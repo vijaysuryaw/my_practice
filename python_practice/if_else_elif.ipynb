{
 "cells": [
  {
   "cell_type": "code",
   "execution_count": 1,
   "id": "b476b363",
   "metadata": {},
   "outputs": [],
   "source": [
    "a = 10"
   ]
  },
  {
   "cell_type": "code",
   "execution_count": null,
   "id": "a7e8edbb",
   "metadata": {},
   "outputs": [],
   "source": []
  },
  {
   "cell_type": "code",
   "execution_count": 2,
   "id": "b50064e2",
   "metadata": {},
   "outputs": [],
   "source": [
    "if a < 15:\n",
    "    pass"
   ]
  },
  {
   "cell_type": "code",
   "execution_count": 3,
   "id": "5bdb9d62",
   "metadata": {},
   "outputs": [
    {
     "data": {
      "text/plain": [
       "True"
      ]
     },
     "execution_count": 3,
     "metadata": {},
     "output_type": "execute_result"
    }
   ],
   "source": [
    "a < 15"
   ]
  },
  {
   "cell_type": "code",
   "execution_count": 4,
   "id": "7f18dc10",
   "metadata": {},
   "outputs": [
    {
     "name": "stdout",
     "output_type": "stream",
     "text": [
      "my name is vijay\n"
     ]
    }
   ],
   "source": [
    "if a < 15:\n",
    "    \n",
    "    print(\"my name is vijay\")"
   ]
  },
  {
   "cell_type": "code",
   "execution_count": 5,
   "id": "346aa284",
   "metadata": {},
   "outputs": [
    {
     "name": "stdout",
     "output_type": "stream",
     "text": [
      "my name is vijay\n"
     ]
    }
   ],
   "source": [
    "if 10 < 15:\n",
    "    \n",
    "    print(\"my name is vijay\")"
   ]
  },
  {
   "cell_type": "code",
   "execution_count": 6,
   "id": "5ab533f6",
   "metadata": {},
   "outputs": [
    {
     "data": {
      "text/plain": [
       "False"
      ]
     },
     "execution_count": 6,
     "metadata": {},
     "output_type": "execute_result"
    }
   ],
   "source": [
    "24 < 15"
   ]
  },
  {
   "cell_type": "code",
   "execution_count": 7,
   "id": "1db2ad12",
   "metadata": {},
   "outputs": [
    {
     "name": "stdout",
     "output_type": "stream",
     "text": [
      "10 is lesser then 3\n"
     ]
    }
   ],
   "source": [
    "if 5 < 10:\n",
    "    print(\"10 is lesser then 3\")\n",
    "else:\n",
    "    print(\"if statement is wrong\")"
   ]
  },
  {
   "cell_type": "code",
   "execution_count": 11,
   "id": "a4124f57",
   "metadata": {},
   "outputs": [
    {
     "name": "stdout",
     "output_type": "stream",
     "text": [
      "Enter the amount:50\n",
      "i will be able to buy car\n"
     ]
    }
   ],
   "source": [
    "income = int(input(\"Enter the amount:\"))\n",
    "if income < 50:\n",
    "    print(\"i will be able to but phone\")\n",
    "elif income < 70:\n",
    "    print(\"i will be able to buy car\")\n",
    "elif income < 90:\n",
    "    print(\"i will be able to rent a house\")\n",
    "else: \n",
    "    print(\"i wont be able to buy anything\")"
   ]
  },
  {
   "cell_type": "code",
   "execution_count": null,
   "id": "ad5ddb5f",
   "metadata": {},
   "outputs": [],
   "source": [
    "total_print = int(input())\n",
    "if total_print > 20000:\n",
    "    discount = total_print * .20\n",
    "    print(\"Discount will be\", discount)\n",
    "elif total_price <= 7000:\n",
    "    discount = total_price * .05\n",
    "else:\n",
    "    print(\"wont be able to give any discount\")\n",
    "    "
   ]
  },
  {
   "cell_type": "code",
   "execution_count": null,
   "id": "4d64bacb",
   "metadata": {},
   "outputs": [],
   "source": [
    "days = int(input(\"Enter the number: \"))\n",
    "if days==1:\n",
    "    print(\"Monday\")\n",
    "elif days==2:\n",
    "    print(\"Tuesday\")\n",
    "elif days==3:\n",
    "    print(\"Wednesday\")\n",
    "elif days==3:\n",
    "    print(\"Thrusday\")\n",
    "elif days==4:\n",
    "    print(\"Friday\")\n",
    "elif days==5:\n",
    "    print(\"Saturday\")\n",
    "elif days==6:\n",
    "    print(\"Sunday\")\n",
    "else:\n",
    "    print(\"There is no such day found\")\n",
    "        \n",
    "\n"
   ]
  },
  {
   "cell_type": "code",
   "execution_count": null,
   "id": "b900979b",
   "metadata": {},
   "outputs": [],
   "source": [
    "month = int(input(\"Enter the number of the Month: \"))\n",
    "if month==1:\n",
    "    print(\"The month is January\")\n",
    "elif month==2:\n",
    "    print(\"The month is Febuary\")\n",
    "elif month==3:\n",
    "    print(\"The month is March\")\n",
    "elif month==4:\n",
    "    print(\"The month is April\")\n",
    "elif month==5:\n",
    "    print(\"The month is May\")\n",
    "elif month==6:\n",
    "    print(\"The month is June\")\n",
    "elif month==7:\n",
    "    print(\"The month is July\")\n",
    "elif month==8:\n",
    "    print(\"The month is August\")\n",
    "elif month==9:\n",
    "    print(\"The month is September\")\n",
    "elif month==10:\n",
    "    print(\"The month is October\")\n",
    "elif month==11:\n",
    "    print(\"The month is November\")\n",
    "elif month==12:\n",
    "    print(\"The month is December\")\n",
    "else: \n",
    "    print(\"There is no such month\")"
   ]
  },
  {
   "cell_type": "code",
   "execution_count": null,
   "id": "888b93ba",
   "metadata": {},
   "outputs": [],
   "source": [
    "num = int(input(\"Enter the number:\"))\n",
    "if num % 2 ==0:\n",
    "    print(\"The number is Even:\")\n",
    "else:\n",
    "    print(\"The number is odd\")\n",
    "    "
   ]
  },
  {
   "cell_type": "code",
   "execution_count": null,
   "id": "7b90d4b9",
   "metadata": {},
   "outputs": [],
   "source": [
    "num = int(input(\"Enter the number:\"))\n",
    "if num % 7 ==0:\n",
    "    print(\"The number is Divisible by 7\")\n",
    "else:\n",
    "    print(\"The number is Not divisible\")"
   ]
  },
  {
   "cell_type": "code",
   "execution_count": null,
   "id": "41cbb87e",
   "metadata": {},
   "outputs": [],
   "source": [
    "unit = int(input(\"Enter the bill unit:\"))\n",
    "if unit<=100:\n",
    "    print(\"There is no charge\")\n",
    "elif unit>100 and unit<=200:\n",
    "    unit=(unit-100)*5\n",
    "    print(\"Your bill is:\", unit)\n",
    "elif unit>200:\n",
    "    unit=500+(unit-200)*10\n",
    "    print(\"Your bill is:\", unit)"
   ]
  },
  {
   "cell_type": "code",
   "execution_count": null,
   "id": "983e80de",
   "metadata": {},
   "outputs": [],
   "source": [
    "num = int(input(\"Enter the number:\"))\n",
    "print(\"Last digit of number is\", num%10)"
   ]
  },
  {
   "cell_type": "code",
   "execution_count": 10,
   "id": "62934e17",
   "metadata": {},
   "outputs": [
    {
     "name": "stdout",
     "output_type": "stream",
     "text": [
      "Enter the number:28\n",
      "Last digit of number is divisible by 7\n"
     ]
    }
   ],
   "source": [
    "num = int(input(\"Enter the number:\"))\n",
    "if num%10 and num%7==0:\n",
    "    print(\"Last digit of number is divisible by 7\")\n",
    "else:\n",
    "    print(\"Last digit of number is not divisible by 7\")"
   ]
  }
 ],
 "metadata": {
  "kernelspec": {
   "display_name": "Python 3 (ipykernel)",
   "language": "python",
   "name": "python3"
  },
  "language_info": {
   "codemirror_mode": {
    "name": "ipython",
    "version": 3
   },
   "file_extension": ".py",
   "mimetype": "text/x-python",
   "name": "python",
   "nbconvert_exporter": "python",
   "pygments_lexer": "ipython3",
   "version": "3.9.13"
  }
 },
 "nbformat": 4,
 "nbformat_minor": 5
}
